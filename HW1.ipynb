{
 "cells": [
  {
   "cell_type": "code",
   "execution_count": 203,
   "id": "e5bf3ad2-d2c7-4352-97e9-777af89b83a6",
   "metadata": {},
   "outputs": [],
   "source": [
    "# Question 1\n",
    "\n",
    "# f(x) = xSin(3x) - exp(x)"
   ]
  },
  {
   "cell_type": "code",
   "execution_count": 204,
   "id": "a30a1842-7af6-4631-9d35-f96c77e5f2b4",
   "metadata": {},
   "outputs": [],
   "source": [
    "A3 = [0,0]\n",
    "import matplotlib.pyplot as plt\n",
    "import numpy as np"
   ]
  },
  {
   "cell_type": "code",
   "execution_count": 205,
   "id": "c1348723-b97c-4d2f-a7ad-a101f74927d4",
   "metadata": {},
   "outputs": [
    {
     "name": "stdout",
     "output_type": "stream",
     "text": [
      "-0.57078962246829\n",
      "-6.016180886803113e-09\n",
      "[-1.6         3.19799514  2.46440244  1.2035359   0.65020146 -0.11692334\n",
      " -0.66052349 -0.52192654 -0.56655274 -0.57074658 -0.57078962 -0.57078962]\n"
     ]
    }
   ],
   "source": [
    "# Newton-Raphson method\n",
    "# Since f(x) = xSin(3x) - exp(x)\n",
    "# f'(x) = Sin(3x) + 3x*Cos(3x) - exp(x)\n",
    "\n",
    "\n",
    "x = np.array([-1.6])  # initial guess\n",
    "\n",
    "for j in range(1000):\n",
    "    x = np.append(\n",
    "        x, x[j] - (x[j]*np.sin(3*x[j]) - np.exp(x[j])) \n",
    "        / (np.sin(3*x[j]) + 3*x[j]*np.cos(3*x[j]) - np.exp(x[j])))\n",
    "    fc = x[j]*np.sin(3*x[j]) - np.exp(x[j])\n",
    "\n",
    "    if abs(fc) < 1e-6:\n",
    "        break\n",
    "\n",
    "print(x[j + 1])\n",
    "print(fc)\n",
    "A1 = x\n",
    "A3[0] = len(x) - 1\n",
    "print(A1)"
   ]
  },
  {
   "cell_type": "code",
   "execution_count": 239,
   "id": "c83ccd7e-f5de-4625-bc87-04ce31fcd060",
   "metadata": {},
   "outputs": [
    {
     "data": {
      "text/plain": [
       "-0.5707893371582031"
      ]
     },
     "metadata": {},
     "output_type": "display_data"
    },
    {
     "data": {
      "text/plain": [
       "16"
      ]
     },
     "metadata": {},
     "output_type": "display_data"
    },
    {
     "name": "stdout",
     "output_type": "stream",
     "text": [
      "[11, 17]\n"
     ]
    }
   ],
   "source": [
    "\n",
    "# bisection method\n",
    "\n",
    "A2 = []\n",
    "\n",
    "xr = -0.4; xl = -0.7\n",
    "for j in range(0, 100):\n",
    "    xc = (xr + xl)/2\n",
    "    A2.append(xc)\n",
    "    fc = xc*(np.sin(3*xc)) - np.exp(xc)   \n",
    "    if ( fc > 0 ):\n",
    "        xl = xc   \n",
    "    else:\n",
    "        xr = xc\n",
    "        \n",
    "    if ( abs(fc) < 1e-6 ):        \n",
    "        display(xc); display(j)\n",
    "        A3[1] = len(A2)\n",
    "        break\n",
    "\n",
    "\n",
    "print(A3)\n",
    "\n"
   ]
  },
  {
   "cell_type": "code",
   "execution_count": 245,
   "id": "9bea7a9c-4b13-4bb1-a517-89ec22aa1c5c",
   "metadata": {},
   "outputs": [
    {
     "name": "stdout",
     "output_type": "stream",
     "text": [
      "[[ 3  2]\n",
      " [-1  3]]\n"
     ]
    }
   ],
   "source": [
    "# Question 2\n",
    "import numpy as np\n",
    "A = np.array([[1,2],[-1,1]])\n",
    "B = np.array([[2,0],[0,2]])\n",
    "C = np.array([[2,0,-3],[0,0,-1]])\n",
    "D = np.array([[1,2],[2,3],[-1,0]])\n",
    "x = np.array([1, 0])\n",
    "y = np.array([0, 1])\n",
    "z = np.array([1, 2, -1])\n",
    "\n",
    "\"\"\"\n",
    "np.dot(array a, array b): returns the scalar or dot product of two arrays\n",
    "np.matmul(array a, array b): returns the matrix product of two arrays\n",
    "np.multiply(array a, array b): returns the element-wise matrix multiplication of two arrays\n",
    "\"\"\"\n",
    "\n",
    "#A4\n",
    "A4 = (np.add(A,B))\n",
    "print(A4)"
   ]
  },
  {
   "cell_type": "code",
   "execution_count": 247,
   "id": "358f8c1a-a33b-45c8-ae30-0a4c8bb72e84",
   "metadata": {},
   "outputs": [
    {
     "name": "stdout",
     "output_type": "stream",
     "text": [
      "[ 3 -4]\n"
     ]
    }
   ],
   "source": [
    "#A5\n",
    "A5 = (np.subtract(np.dot(3,x),np.dot(4,y)))\n",
    "print(A5)"
   ]
  },
  {
   "cell_type": "code",
   "execution_count": 249,
   "id": "fbc4861c-8a34-46f1-a9d9-826edac683f1",
   "metadata": {},
   "outputs": [
    {
     "name": "stdout",
     "output_type": "stream",
     "text": [
      "[ 1 -1]\n"
     ]
    }
   ],
   "source": [
    "#A6\n",
    "A6 = (np.matmul(A,x))\n",
    "print(A6)"
   ]
  },
  {
   "cell_type": "code",
   "execution_count": 251,
   "id": "a523894e-35dc-45d3-9f93-7cc3750ae671",
   "metadata": {},
   "outputs": [
    {
     "name": "stdout",
     "output_type": "stream",
     "text": [
      "[ 2 -2]\n"
     ]
    }
   ],
   "source": [
    "#A7\n",
    "A7 = (np.matmul(B,np.subtract(x,y)))\n",
    "print(A7)"
   ]
  },
  {
   "cell_type": "code",
   "execution_count": 253,
   "id": "010f883c-be50-4182-b3bc-73ee259aeffb",
   "metadata": {},
   "outputs": [
    {
     "name": "stdout",
     "output_type": "stream",
     "text": [
      "[ 1  2 -1]\n"
     ]
    }
   ],
   "source": [
    "#A8\n",
    "A8 = (np.matmul(D,x))\n",
    "print(A8)"
   ]
  },
  {
   "cell_type": "code",
   "execution_count": 255,
   "id": "4f81982f-70fe-47e3-9ac6-c33f90c2646d",
   "metadata": {},
   "outputs": [
    {
     "name": "stdout",
     "output_type": "stream",
     "text": [
      "[ 3  5 -1]\n"
     ]
    }
   ],
   "source": [
    "#A9 \n",
    "A9 = (np.add(np.matmul(D,y),z))\n",
    "print(A9)"
   ]
  },
  {
   "cell_type": "code",
   "execution_count": 257,
   "id": "b105f8d4-f9f4-450e-b3e2-6192d45f487c",
   "metadata": {},
   "outputs": [
    {
     "name": "stdout",
     "output_type": "stream",
     "text": [
      "[[ 2  4]\n",
      " [-2  2]]\n"
     ]
    }
   ],
   "source": [
    "#A10 \n",
    "A10 = (np.matmul(A,B))\n",
    "print(A10)"
   ]
  },
  {
   "cell_type": "code",
   "execution_count": 259,
   "id": "dcdd0df0-8b4e-44d5-aed7-2c8d78e99f95",
   "metadata": {},
   "outputs": [
    {
     "name": "stdout",
     "output_type": "stream",
     "text": [
      "[[ 4  0 -6]\n",
      " [ 0  0 -2]]\n"
     ]
    }
   ],
   "source": [
    "#A11\n",
    "A11 = np.dot(B,C)\n",
    "print(A11)"
   ]
  },
  {
   "cell_type": "code",
   "execution_count": 263,
   "id": "db8503cd-9cf7-43e4-8aee-062eab4e59b2",
   "metadata": {},
   "outputs": [
    {
     "name": "stdout",
     "output_type": "stream",
     "text": [
      "[[5 4]\n",
      " [1 0]]\n"
     ]
    }
   ],
   "source": [
    "#A12\n",
    "A12 = np.dot(C,D)\n",
    "print(A12)"
   ]
  },
  {
   "cell_type": "code",
   "execution_count": null,
   "id": "34fbc96b-fdb0-4375-a084-578859ebe369",
   "metadata": {},
   "outputs": [],
   "source": []
  }
 ],
 "metadata": {
  "kernelspec": {
   "display_name": "Python 3 (ipykernel)",
   "language": "python",
   "name": "python3"
  },
  "language_info": {
   "codemirror_mode": {
    "name": "ipython",
    "version": 3
   },
   "file_extension": ".py",
   "mimetype": "text/x-python",
   "name": "python",
   "nbconvert_exporter": "python",
   "pygments_lexer": "ipython3",
   "version": "3.11.9"
  }
 },
 "nbformat": 4,
 "nbformat_minor": 5
}
