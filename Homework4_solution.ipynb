{
 "cells": [
  {
   "cell_type": "code",
   "execution_count": 5,
   "metadata": {},
   "outputs": [
    {
     "name": "stdout",
     "output_type": "stream",
     "text": [
      "Matrix A1 (Laplacian): Shape [[-0.64  0.16  0.   ...  0.    0.    0.  ]\n",
      " [ 0.16 -0.64  0.16 ...  0.    0.    0.  ]\n",
      " [ 0.    0.16 -0.64 ...  0.    0.    0.  ]\n",
      " ...\n",
      " [ 0.    0.    0.   ... -0.64  0.16  0.  ]\n",
      " [ 0.    0.    0.   ...  0.16 -0.64  0.16]\n",
      " [ 0.    0.    0.   ...  0.    0.16 -0.64]]\n",
      "Matrix A2 (∂x): Shape [[0. 0. 0. ... 0. 0. 0.]\n",
      " [0. 0. 0. ... 0. 0. 0.]\n",
      " [0. 0. 0. ... 0. 0. 0.]\n",
      " ...\n",
      " [0. 0. 0. ... 0. 0. 0.]\n",
      " [0. 0. 0. ... 0. 0. 0.]\n",
      " [0. 0. 0. ... 0. 0. 0.]]\n",
      "Matrix A3 (∂y): Shape [[ 0.   0.2  0.  ...  0.   0.   0. ]\n",
      " [-0.2  0.   0.2 ...  0.   0.   0. ]\n",
      " [ 0.  -0.2  0.  ...  0.   0.   0. ]\n",
      " ...\n",
      " [ 0.   0.   0.  ...  0.   0.2  0. ]\n",
      " [ 0.   0.   0.  ... -0.2  0.   0.2]\n",
      " [ 0.   0.   0.  ...  0.  -0.2  0. ]]\n"
     ]
    }
   ],
   "source": [
    "import numpy as np\n",
    "from scipy.sparse import spdiags, kron, eye\n",
    "\n",
    "# Parameters\n",
    "L = 10  # Domain [-L, L]\n",
    "n = 8   # Number of grid points\n",
    "dx = 2 * L / n\n",
    "x = np.linspace(-L, L - dx, n)\n",
    "\n",
    "# Identity matrix\n",
    "I = eye(n, format='csr')\n",
    "\n",
    "# First derivative matrix (∂x or ∂y)\n",
    "e = np.ones(n)\n",
    "diagonals_D1 = [-e, e]\n",
    "offsets_D1 = [-1, 1]\n",
    "D1 = spdiags(diagonals_D1, offsets_D1, n, n) / (2 * dx)\n",
    "D1 = D1.tolil()  # Convert to modify boundary conditions\n",
    "D1[0, -1] = -1 / (2 * dx)  # Periodic condition\n",
    "D1[-1, 0] = 1 / (2 * dx)   # Periodic condition\n",
    "D1 = D1.tocsr()  # Convert back to sparse CSR format\n",
    "\n",
    "# Second derivative matrix (∂²x or ∂²y)\n",
    "diagonals_D2 = [e, -2 * e, e]\n",
    "offsets_D2 = [-1, 0, 1]\n",
    "D2 = spdiags(diagonals_D2, offsets_D2, n, n) / dx**2\n",
    "D2 = D2.tolil()  # Convert to modify boundary conditions\n",
    "D2[0, -1] = 1 / dx**2  # Periodic condition\n",
    "D2[-1, 0] = 1 / dx**2  # Periodic condition\n",
    "D2 = D2.tocsr()  # Convert back to sparse CSR format\n",
    "\n",
    "# Construct 2D matrices using Kronecker products\n",
    "I_n = eye(n, format='csr')  # Identity matrix for grid size\n",
    "D1x = kron(D1, I_n, format='csr')  # ∂x (size: n^2 x n^2)\n",
    "D1y = kron(I_n, D1, format='csr')  # ∂y (size: n^2 x n^2)\n",
    "D2x = kron(D2, I_n, format='csr')  # ∂²x (size: n^2 x n^2)\n",
    "D2y = kron(I_n, D2, format='csr')  # ∂²y (size: n^2 x n^2)\n",
    "\n",
    "# Final matrices\n",
    "A1 = D2x + D2y  # Laplacian (size: n^2 x n^2)\n",
    "A2 = D1x        # ∂x (size: n^2 x n^2)\n",
    "A3 = D1y        # ∂y (size: n^2 x n^2)\n",
    "\n",
    "# Convert to dense matrices for submission\n",
    "A1 = A1.toarray()\n",
    "A2 = A2.toarray()\n",
    "A3 = A3.toarray()\n",
    "\n",
    "# Output\n",
    "print(\"Matrix A1 (Laplacian): Shape\", A1)\n",
    "print(\"Matrix A2 (∂x): Shape\", A2)\n",
    "print(\"Matrix A3 (∂y): Shape\", A3)"
   ]
  }
 ],
 "metadata": {
  "kernelspec": {
   "display_name": "base",
   "language": "python",
   "name": "python3"
  },
  "language_info": {
   "codemirror_mode": {
    "name": "ipython",
    "version": 3
   },
   "file_extension": ".py",
   "mimetype": "text/x-python",
   "name": "python",
   "nbconvert_exporter": "python",
   "pygments_lexer": "ipython3",
   "version": "3.11.9"
  }
 },
 "nbformat": 4,
 "nbformat_minor": 2
}
